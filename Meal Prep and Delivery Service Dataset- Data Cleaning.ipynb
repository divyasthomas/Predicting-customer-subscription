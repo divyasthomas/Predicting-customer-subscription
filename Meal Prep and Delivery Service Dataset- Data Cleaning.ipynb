{
 "cells": [
  {
   "cell_type": "markdown",
   "metadata": {},
   "source": [
    "# Loading the libraries and data"
   ]
  },
  {
   "cell_type": "code",
   "execution_count": 1,
   "metadata": {},
   "outputs": [],
   "source": [
    "#libraries\n",
    "import pandas as pd\n",
    "import numpy as np\n",
    "import seaborn as sn"
   ]
  },
  {
   "cell_type": "code",
   "execution_count": 3,
   "metadata": {},
   "outputs": [],
   "source": [
    "#load data file\n",
    "df1=pd.read_csv('QK.csv')"
   ]
  },
  {
   "cell_type": "code",
   "execution_count": 4,
   "metadata": {},
   "outputs": [
    {
     "data": {
      "text/html": [
       "<div>\n",
       "<style scoped>\n",
       "    .dataframe tbody tr th:only-of-type {\n",
       "        vertical-align: middle;\n",
       "    }\n",
       "\n",
       "    .dataframe tbody tr th {\n",
       "        vertical-align: top;\n",
       "    }\n",
       "\n",
       "    .dataframe thead th {\n",
       "        text-align: right;\n",
       "    }\n",
       "</style>\n",
       "<table border=\"1\" class=\"dataframe\">\n",
       "  <thead>\n",
       "    <tr style=\"text-align: right;\">\n",
       "      <th></th>\n",
       "      <th>Unnamed: 0</th>\n",
       "      <th>custid</th>\n",
       "      <th>SUBSCRIBE</th>\n",
       "      <th>Disc</th>\n",
       "      <th>Title</th>\n",
       "      <th>LastOrder</th>\n",
       "      <th>Pcode</th>\n",
       "      <th>DA_Income</th>\n",
       "      <th>DA_Under20</th>\n",
       "      <th>DA_Over60</th>\n",
       "      <th>...</th>\n",
       "      <th>NumDeliv</th>\n",
       "      <th>NumMeals</th>\n",
       "      <th>MealsPerDeliv</th>\n",
       "      <th>Healthy</th>\n",
       "      <th>Veggie</th>\n",
       "      <th>Meaty</th>\n",
       "      <th>Special</th>\n",
       "      <th>TotPurch</th>\n",
       "      <th>Weeks3Meals</th>\n",
       "      <th>Sample</th>\n",
       "    </tr>\n",
       "  </thead>\n",
       "  <tbody>\n",
       "    <tr>\n",
       "      <td>0</td>\n",
       "      <td>1</td>\n",
       "      <td>1309346</td>\n",
       "      <td>NaN</td>\n",
       "      <td>Senior</td>\n",
       "      <td>Mr</td>\n",
       "      <td>2018-01-26</td>\n",
       "      <td>B0V 2H9</td>\n",
       "      <td>57.5</td>\n",
       "      <td>137</td>\n",
       "      <td>105.0</td>\n",
       "      <td>...</td>\n",
       "      <td>23</td>\n",
       "      <td>46</td>\n",
       "      <td>2.0</td>\n",
       "      <td>9</td>\n",
       "      <td>26</td>\n",
       "      <td>10</td>\n",
       "      <td>1</td>\n",
       "      <td>481.913162</td>\n",
       "      <td>NaN</td>\n",
       "      <td>Holdout</td>\n",
       "    </tr>\n",
       "    <tr>\n",
       "      <td>1</td>\n",
       "      <td>2</td>\n",
       "      <td>2871764</td>\n",
       "      <td>NaN</td>\n",
       "      <td>NaN</td>\n",
       "      <td>NaN</td>\n",
       "      <td>2018-01-27</td>\n",
       "      <td>J6R 3P0</td>\n",
       "      <td>73.7</td>\n",
       "      <td>65</td>\n",
       "      <td>186.0</td>\n",
       "      <td>...</td>\n",
       "      <td>14</td>\n",
       "      <td>14</td>\n",
       "      <td>1.0</td>\n",
       "      <td>2</td>\n",
       "      <td>1</td>\n",
       "      <td>0</td>\n",
       "      <td>11</td>\n",
       "      <td>175.990934</td>\n",
       "      <td>NaN</td>\n",
       "      <td>Holdout</td>\n",
       "    </tr>\n",
       "    <tr>\n",
       "      <td>2</td>\n",
       "      <td>3</td>\n",
       "      <td>3150558</td>\n",
       "      <td>N</td>\n",
       "      <td>NaN</td>\n",
       "      <td>Mr</td>\n",
       "      <td>2018-01-15</td>\n",
       "      <td>L9N 0L2</td>\n",
       "      <td>53.3</td>\n",
       "      <td>313</td>\n",
       "      <td>176.0</td>\n",
       "      <td>...</td>\n",
       "      <td>10</td>\n",
       "      <td>10</td>\n",
       "      <td>1.0</td>\n",
       "      <td>6</td>\n",
       "      <td>1</td>\n",
       "      <td>0</td>\n",
       "      <td>3</td>\n",
       "      <td>117.933825</td>\n",
       "      <td>NaN</td>\n",
       "      <td>Validation</td>\n",
       "    </tr>\n",
       "    <tr>\n",
       "      <td>3</td>\n",
       "      <td>4</td>\n",
       "      <td>3013411</td>\n",
       "      <td>NaN</td>\n",
       "      <td>Senior</td>\n",
       "      <td>Mrs</td>\n",
       "      <td>2018-02-14</td>\n",
       "      <td>B1K 1E1</td>\n",
       "      <td>101.9</td>\n",
       "      <td>236</td>\n",
       "      <td>98.0</td>\n",
       "      <td>...</td>\n",
       "      <td>47</td>\n",
       "      <td>47</td>\n",
       "      <td>1.0</td>\n",
       "      <td>2</td>\n",
       "      <td>10</td>\n",
       "      <td>31</td>\n",
       "      <td>4</td>\n",
       "      <td>599.894814</td>\n",
       "      <td>1.0</td>\n",
       "      <td>Holdout</td>\n",
       "    </tr>\n",
       "    <tr>\n",
       "      <td>4</td>\n",
       "      <td>5</td>\n",
       "      <td>2600646</td>\n",
       "      <td>N</td>\n",
       "      <td>NaN</td>\n",
       "      <td>NaN</td>\n",
       "      <td>2017-12-18</td>\n",
       "      <td>L3V 1R5</td>\n",
       "      <td>76.6</td>\n",
       "      <td>196</td>\n",
       "      <td>80.0</td>\n",
       "      <td>...</td>\n",
       "      <td>10</td>\n",
       "      <td>20</td>\n",
       "      <td>2.0</td>\n",
       "      <td>12</td>\n",
       "      <td>1</td>\n",
       "      <td>7</td>\n",
       "      <td>0</td>\n",
       "      <td>235.538738</td>\n",
       "      <td>NaN</td>\n",
       "      <td>Validation</td>\n",
       "    </tr>\n",
       "  </tbody>\n",
       "</table>\n",
       "<p>5 rows × 21 columns</p>\n",
       "</div>"
      ],
      "text/plain": [
       "   Unnamed: 0   custid SUBSCRIBE    Disc Title   LastOrder    Pcode  \\\n",
       "0           1  1309346       NaN  Senior    Mr  2018-01-26  B0V 2H9   \n",
       "1           2  2871764       NaN     NaN   NaN  2018-01-27  J6R 3P0   \n",
       "2           3  3150558         N     NaN    Mr  2018-01-15  L9N 0L2   \n",
       "3           4  3013411       NaN  Senior   Mrs  2018-02-14  B1K 1E1   \n",
       "4           5  2600646         N     NaN   NaN  2017-12-18  L3V 1R5   \n",
       "\n",
       "   DA_Income  DA_Under20  DA_Over60  ...  NumDeliv  NumMeals  MealsPerDeliv  \\\n",
       "0       57.5         137      105.0  ...        23        46            2.0   \n",
       "1       73.7          65      186.0  ...        14        14            1.0   \n",
       "2       53.3         313      176.0  ...        10        10            1.0   \n",
       "3      101.9         236       98.0  ...        47        47            1.0   \n",
       "4       76.6         196       80.0  ...        10        20            2.0   \n",
       "\n",
       "   Healthy  Veggie  Meaty  Special    TotPurch  Weeks3Meals      Sample  \n",
       "0        9      26     10        1  481.913162          NaN     Holdout  \n",
       "1        2       1      0       11  175.990934          NaN     Holdout  \n",
       "2        6       1      0        3  117.933825          NaN  Validation  \n",
       "3        2      10     31        4  599.894814          1.0     Holdout  \n",
       "4       12       1      7        0  235.538738          NaN  Validation  \n",
       "\n",
       "[5 rows x 21 columns]"
      ]
     },
     "execution_count": 4,
     "metadata": {},
     "output_type": "execute_result"
    }
   ],
   "source": [
    "#checking if loaded correctly\n",
    "df1.head()"
   ]
  },
  {
   "cell_type": "code",
   "execution_count": 17,
   "metadata": {},
   "outputs": [
    {
     "name": "stdout",
     "output_type": "stream",
     "text": [
      "<class 'pandas.core.frame.DataFrame'>\n",
      "RangeIndex: 2000 entries, 0 to 1999\n",
      "Data columns (total 21 columns):\n",
      "Unnamed: 0       2000 non-null int64\n",
      "custid           2000 non-null int64\n",
      "SUBSCRIBE        1400 non-null object\n",
      "Disc             514 non-null object\n",
      "Title            1297 non-null object\n",
      "LastOrder        2000 non-null object\n",
      "Pcode            2000 non-null object\n",
      "DA_Income        1935 non-null float64\n",
      "DA_Under20       2000 non-null int64\n",
      "DA_Over60        1935 non-null float64\n",
      "DA_Single        1935 non-null float64\n",
      "NumDeliv         2000 non-null int64\n",
      "NumMeals         2000 non-null int64\n",
      "MealsPerDeliv    2000 non-null float64\n",
      "Healthy          2000 non-null int64\n",
      "Veggie           2000 non-null int64\n",
      "Meaty            2000 non-null int64\n",
      "Special          2000 non-null int64\n",
      "TotPurch         2000 non-null float64\n",
      "Weeks3Meals      331 non-null float64\n",
      "Sample           2000 non-null object\n",
      "dtypes: float64(6), int64(9), object(6)\n",
      "memory usage: 328.2+ KB\n"
     ]
    }
   ],
   "source": [
    "\n",
    "#To get an idea about the columns,  total number of non-null datapoints in each column and their datatype\n",
    "df1.info()\n",
    "\n"
   ]
  },
  {
   "cell_type": "markdown",
   "metadata": {},
   "source": [
    "# Checking for Missing values visually"
   ]
  },
  {
   "cell_type": "code",
   "execution_count": 15,
   "metadata": {
    "scrolled": true
   },
   "outputs": [
    {
     "data": {
      "text/plain": [
       "<matplotlib.axes._subplots.AxesSubplot at 0x2693b130e48>"
      ]
     },
     "execution_count": 15,
     "metadata": {},
     "output_type": "execute_result"
    },
    {
     "data": {
      "image/png": "[encoded data removed]",
      "text/plain": [
       "<Figure size 1800x720 with 2 Axes>"
      ]
     },
     "metadata": {
      "needs_background": "light"
     },
     "output_type": "display_data"
    }
   ],
   "source": [
    "import missingno as msno\n",
    "\n",
    "#data-dense display which lets you quickly visually pick out patterns in data completion\n",
    "msno.matrix(df1)"
   ]
  },
  {
   "cell_type": "code",
   "execution_count": 20,
   "metadata": {},
   "outputs": [
    {
     "data": {
      "text/plain": [
       "<matplotlib.axes._subplots.AxesSubplot at 0x2693b3dfc48>"
      ]
     },
     "execution_count": 20,
     "metadata": {},
     "output_type": "execute_result"
    },
    {
     "data": {
      "image/png": "[encoded data removed]",
      "text/plain": [
       "<Figure size 720x576 with 3 Axes>"
      ]
     },
     "metadata": {
      "needs_background": "light"
     },
     "output_type": "display_data"
    }
   ],
   "source": [
    "#visualizing data completeness in bar chart form\n",
    "#also left y-axis  helps to get approxiate proportion of missing data\n",
    "msno.bar(df1, color = 'b', figsize = (10,8))"
   ]
  },
  {
   "cell_type": "markdown",
   "metadata": {},
   "source": [
    "Looks like Subscribe, Disc, TitleWeeks3Meals are columns with less that 80% complete data"
   ]
  },
  {
   "cell_type": "code",
   "execution_count": 27,
   "metadata": {},
   "outputs": [
    {
     "data": {
      "text/plain": [
       "<matplotlib.axes._subplots.AxesSubplot at 0x2693c372888>"
      ]
     },
     "execution_count": 27,
     "metadata": {},
     "output_type": "execute_result"
    },
    {
     "data": {
      "image/png": "[encoded data removed]",
      "text/plain": [
       "<Figure size 1440x864 with 2 Axes>"
      ]
     },
     "metadata": {
      "needs_background": "light"
     },
     "output_type": "display_data"
    }
   ],
   "source": [
    "#The missingno correlation heatmap measures nullity correlation: \n",
    "#how strongly the presence or absence of one variable affects the presence of another\n",
    "msno.heatmap(df1)"
   ]
  },
  {
   "cell_type": "markdown",
   "metadata": {},
   "source": [
    "Nullity correlation ranges from -1 (if one variable appears the other definitely does not) to 0 (variables appearing or not appearing have no effect on one another) to 1 (if one variable appears the other definitely also does)."
   ]
  },
  {
   "cell_type": "code",
   "execution_count": 28,
   "metadata": {},
   "outputs": [
    {
     "data": {
      "text/plain": [
       "<matplotlib.axes._subplots.AxesSubplot at 0x2693c0e6948>"
      ]
     },
     "execution_count": 28,
     "metadata": {},
     "output_type": "execute_result"
    },
    {
     "data": {
      "image/png": "[encoded data removed]",
      "text/plain": [
       "<Figure size 1800x720 with 1 Axes>"
      ]
     },
     "metadata": {
      "needs_background": "light"
     },
     "output_type": "display_data"
    }
   ],
   "source": [
    "msno.dendrogram(df1)"
   ]
  },
  {
   "cell_type": "markdown",
   "metadata": {},
   "source": [
    " Cluster leaves which linked together at a distance of zero fully predict one another's presence—one variable might always be empty when another is filled, or they might always both be filled or both empty, and so on\n",
    " Cluster leaves which split close to zero, but not at it, predict one another very well, but still imperfectly. If your own interpretation of the dataset is that these columns actually are or ought to be match each other in nullity, then the height of the cluster leaf tells you, in absolute terms, how often the records are \"mismatched\" —that is, how many values you would have to fill in or drop, if you are so inclined.\n",
    "https://github.com/ResidentMario/missingno\n"
   ]
  },
  {
   "cell_type": "markdown",
   "metadata": {},
   "source": [
    "# Checking for Missing values numerically"
   ]
  },
  {
   "cell_type": "code",
   "execution_count": 39,
   "metadata": {},
   "outputs": [
    {
     "data": {
      "text/html": [
       "<div>\n",
       "<style scoped>\n",
       "    .dataframe tbody tr th:only-of-type {\n",
       "        vertical-align: middle;\n",
       "    }\n",
       "\n",
       "    .dataframe tbody tr th {\n",
       "        vertical-align: top;\n",
       "    }\n",
       "\n",
       "    .dataframe thead th {\n",
       "        text-align: right;\n",
       "    }\n",
       "</style>\n",
       "<table border=\"1\" class=\"dataframe\">\n",
       "  <thead>\n",
       "    <tr style=\"text-align: right;\">\n",
       "      <th></th>\n",
       "      <th>Total Number of NAs</th>\n",
       "      <th>Percent of NAs</th>\n",
       "    </tr>\n",
       "  </thead>\n",
       "  <tbody>\n",
       "    <tr>\n",
       "      <td>Weeks3Meals</td>\n",
       "      <td>1669</td>\n",
       "      <td>83.45</td>\n",
       "    </tr>\n",
       "    <tr>\n",
       "      <td>Disc</td>\n",
       "      <td>1486</td>\n",
       "      <td>74.30</td>\n",
       "    </tr>\n",
       "    <tr>\n",
       "      <td>Title</td>\n",
       "      <td>703</td>\n",
       "      <td>35.15</td>\n",
       "    </tr>\n",
       "    <tr>\n",
       "      <td>SUBSCRIBE</td>\n",
       "      <td>600</td>\n",
       "      <td>30.00</td>\n",
       "    </tr>\n",
       "    <tr>\n",
       "      <td>DA_Single</td>\n",
       "      <td>65</td>\n",
       "      <td>3.25</td>\n",
       "    </tr>\n",
       "    <tr>\n",
       "      <td>DA_Over60</td>\n",
       "      <td>65</td>\n",
       "      <td>3.25</td>\n",
       "    </tr>\n",
       "    <tr>\n",
       "      <td>DA_Income</td>\n",
       "      <td>65</td>\n",
       "      <td>3.25</td>\n",
       "    </tr>\n",
       "    <tr>\n",
       "      <td>custid</td>\n",
       "      <td>0</td>\n",
       "      <td>0.00</td>\n",
       "    </tr>\n",
       "    <tr>\n",
       "      <td>LastOrder</td>\n",
       "      <td>0</td>\n",
       "      <td>0.00</td>\n",
       "    </tr>\n",
       "    <tr>\n",
       "      <td>Pcode</td>\n",
       "      <td>0</td>\n",
       "      <td>0.00</td>\n",
       "    </tr>\n",
       "    <tr>\n",
       "      <td>DA_Under20</td>\n",
       "      <td>0</td>\n",
       "      <td>0.00</td>\n",
       "    </tr>\n",
       "    <tr>\n",
       "      <td>Sample</td>\n",
       "      <td>0</td>\n",
       "      <td>0.00</td>\n",
       "    </tr>\n",
       "    <tr>\n",
       "      <td>NumDeliv</td>\n",
       "      <td>0</td>\n",
       "      <td>0.00</td>\n",
       "    </tr>\n",
       "    <tr>\n",
       "      <td>NumMeals</td>\n",
       "      <td>0</td>\n",
       "      <td>0.00</td>\n",
       "    </tr>\n",
       "    <tr>\n",
       "      <td>MealsPerDeliv</td>\n",
       "      <td>0</td>\n",
       "      <td>0.00</td>\n",
       "    </tr>\n",
       "    <tr>\n",
       "      <td>Healthy</td>\n",
       "      <td>0</td>\n",
       "      <td>0.00</td>\n",
       "    </tr>\n",
       "    <tr>\n",
       "      <td>Veggie</td>\n",
       "      <td>0</td>\n",
       "      <td>0.00</td>\n",
       "    </tr>\n",
       "    <tr>\n",
       "      <td>Meaty</td>\n",
       "      <td>0</td>\n",
       "      <td>0.00</td>\n",
       "    </tr>\n",
       "    <tr>\n",
       "      <td>Special</td>\n",
       "      <td>0</td>\n",
       "      <td>0.00</td>\n",
       "    </tr>\n",
       "    <tr>\n",
       "      <td>TotPurch</td>\n",
       "      <td>0</td>\n",
       "      <td>0.00</td>\n",
       "    </tr>\n",
       "    <tr>\n",
       "      <td>Unnamed: 0</td>\n",
       "      <td>0</td>\n",
       "      <td>0.00</td>\n",
       "    </tr>\n",
       "  </tbody>\n",
       "</table>\n",
       "</div>"
      ],
      "text/plain": [
       "               Total Number of NAs  Percent of NAs\n",
       "Weeks3Meals                   1669           83.45\n",
       "Disc                          1486           74.30\n",
       "Title                          703           35.15\n",
       "SUBSCRIBE                      600           30.00\n",
       "DA_Single                       65            3.25\n",
       "DA_Over60                       65            3.25\n",
       "DA_Income                       65            3.25\n",
       "custid                           0            0.00\n",
       "LastOrder                        0            0.00\n",
       "Pcode                            0            0.00\n",
       "DA_Under20                       0            0.00\n",
       "Sample                           0            0.00\n",
       "NumDeliv                         0            0.00\n",
       "NumMeals                         0            0.00\n",
       "MealsPerDeliv                    0            0.00\n",
       "Healthy                          0            0.00\n",
       "Veggie                           0            0.00\n",
       "Meaty                            0            0.00\n",
       "Special                          0            0.00\n",
       "TotPurch                         0            0.00\n",
       "Unnamed: 0                       0            0.00"
      ]
     },
     "execution_count": 39,
     "metadata": {},
     "output_type": "execute_result"
    }
   ],
   "source": [
    "#count of missing data per column\n",
    "count_NAs_per_col=df1.isnull().sum().sort_values(ascending=False)\n",
    "percent_NAs_per_col= ((df1.isnull().sum()/df1.shape[0])*100).sort_values(ascending=False)\n",
    "missing_data = pd.concat([count_NAs_per_col, percent_NAs_per_col], axis=1, keys=['Total Number of NAs', 'Percent of NAs'])\n",
    "missing_data"
   ]
  },
  {
   "cell_type": "markdown",
   "metadata": {},
   "source": [
    "# Handling Missing values"
   ]
  },
  {
   "cell_type": "markdown",
   "metadata": {},
   "source": [
    "### Fixing column Disc:"
   ]
  },
  {
   "cell_type": "code",
   "execution_count": 46,
   "metadata": {},
   "outputs": [
    {
     "data": {
      "text/plain": [
       "1486"
      ]
     },
     "execution_count": 46,
     "metadata": {},
     "output_type": "execute_result"
    }
   ],
   "source": [
    "#number of missing values\n",
    "df1['Disc'].isnull().sum()\n"
   ]
  },
  {
   "cell_type": "code",
   "execution_count": 47,
   "metadata": {},
   "outputs": [
    {
     "data": {
      "text/plain": [
       "array(['Senior', nan, 'Student'], dtype=object)"
      ]
     },
     "execution_count": 47,
     "metadata": {},
     "output_type": "execute_result"
    }
   ],
   "source": [
    "#what are the unique values?\n",
    "df1['Disc'].unique()"
   ]
  },
  {
   "cell_type": "markdown",
   "metadata": {},
   "source": [
    "So it looks like here the NA is not missing info but it means the customer didnot qualify as a Student or a Senior. Therefore it is meaningful information and So we will create a new category called 'Neither' to replace NAs"
   ]
  },
  {
   "cell_type": "code",
   "execution_count": 43,
   "metadata": {},
   "outputs": [],
   "source": [
    "#Making a deep copy of original dataframe\n",
    "df2=df1.copy()\n"
   ]
  },
  {
   "cell_type": "code",
   "execution_count": 51,
   "metadata": {},
   "outputs": [
    {
     "name": "stdout",
     "output_type": "stream",
     "text": [
      "['Senior' 'Neither' 'Student']\n",
      "0\n"
     ]
    }
   ],
   "source": [
    "df2['Disc'].fillna('Neither', inplace = True)\n",
    "\n",
    "#checking if NAs are replaced\n",
    "print(df2['Disc'].unique())\n",
    "\n",
    "#checking for missing values in Disc:\n",
    "print(df2['Disc'].isnull().sum())"
   ]
  },
  {
   "cell_type": "markdown",
   "metadata": {},
   "source": [
    "### Fixing column  'Subscribe':"
   ]
  },
  {
   "cell_type": "code",
   "execution_count": 108,
   "metadata": {},
   "outputs": [
    {
     "data": {
      "text/html": [
       "<div>\n",
       "<style scoped>\n",
       "    .dataframe tbody tr th:only-of-type {\n",
       "        vertical-align: middle;\n",
       "    }\n",
       "\n",
       "    .dataframe tbody tr th {\n",
       "        vertical-align: top;\n",
       "    }\n",
       "\n",
       "    .dataframe thead th {\n",
       "        text-align: right;\n",
       "    }\n",
       "</style>\n",
       "<table border=\"1\" class=\"dataframe\">\n",
       "  <thead>\n",
       "    <tr style=\"text-align: right;\">\n",
       "      <th></th>\n",
       "      <th>Weeks3Meals</th>\n",
       "      <th>SUBSCRIBE</th>\n",
       "    </tr>\n",
       "  </thead>\n",
       "  <tbody>\n",
       "    <tr>\n",
       "      <td>0</td>\n",
       "      <td>NaN</td>\n",
       "      <td>NaN</td>\n",
       "    </tr>\n",
       "    <tr>\n",
       "      <td>1</td>\n",
       "      <td>NaN</td>\n",
       "      <td>NaN</td>\n",
       "    </tr>\n",
       "    <tr>\n",
       "      <td>2</td>\n",
       "      <td>NaN</td>\n",
       "      <td>N</td>\n",
       "    </tr>\n",
       "    <tr>\n",
       "      <td>3</td>\n",
       "      <td>1.0</td>\n",
       "      <td>NaN</td>\n",
       "    </tr>\n",
       "    <tr>\n",
       "      <td>4</td>\n",
       "      <td>NaN</td>\n",
       "      <td>N</td>\n",
       "    </tr>\n",
       "    <tr>\n",
       "      <td>5</td>\n",
       "      <td>NaN</td>\n",
       "      <td>N</td>\n",
       "    </tr>\n",
       "    <tr>\n",
       "      <td>6</td>\n",
       "      <td>NaN</td>\n",
       "      <td>N</td>\n",
       "    </tr>\n",
       "    <tr>\n",
       "      <td>7</td>\n",
       "      <td>NaN</td>\n",
       "      <td>N</td>\n",
       "    </tr>\n",
       "    <tr>\n",
       "      <td>8</td>\n",
       "      <td>NaN</td>\n",
       "      <td>NaN</td>\n",
       "    </tr>\n",
       "    <tr>\n",
       "      <td>9</td>\n",
       "      <td>NaN</td>\n",
       "      <td>NaN</td>\n",
       "    </tr>\n",
       "    <tr>\n",
       "      <td>10</td>\n",
       "      <td>5.0</td>\n",
       "      <td>Y</td>\n",
       "    </tr>\n",
       "    <tr>\n",
       "      <td>11</td>\n",
       "      <td>NaN</td>\n",
       "      <td>N</td>\n",
       "    </tr>\n",
       "    <tr>\n",
       "      <td>12</td>\n",
       "      <td>NaN</td>\n",
       "      <td>NaN</td>\n",
       "    </tr>\n",
       "    <tr>\n",
       "      <td>13</td>\n",
       "      <td>NaN</td>\n",
       "      <td>N</td>\n",
       "    </tr>\n",
       "    <tr>\n",
       "      <td>14</td>\n",
       "      <td>NaN</td>\n",
       "      <td>N</td>\n",
       "    </tr>\n",
       "    <tr>\n",
       "      <td>15</td>\n",
       "      <td>NaN</td>\n",
       "      <td>NaN</td>\n",
       "    </tr>\n",
       "    <tr>\n",
       "      <td>16</td>\n",
       "      <td>NaN</td>\n",
       "      <td>NaN</td>\n",
       "    </tr>\n",
       "    <tr>\n",
       "      <td>17</td>\n",
       "      <td>NaN</td>\n",
       "      <td>N</td>\n",
       "    </tr>\n",
       "    <tr>\n",
       "      <td>18</td>\n",
       "      <td>NaN</td>\n",
       "      <td>NaN</td>\n",
       "    </tr>\n",
       "    <tr>\n",
       "      <td>19</td>\n",
       "      <td>NaN</td>\n",
       "      <td>NaN</td>\n",
       "    </tr>\n",
       "  </tbody>\n",
       "</table>\n",
       "</div>"
      ],
      "text/plain": [
       "    Weeks3Meals SUBSCRIBE\n",
       "0           NaN       NaN\n",
       "1           NaN       NaN\n",
       "2           NaN         N\n",
       "3           1.0       NaN\n",
       "4           NaN         N\n",
       "5           NaN         N\n",
       "6           NaN         N\n",
       "7           NaN         N\n",
       "8           NaN       NaN\n",
       "9           NaN       NaN\n",
       "10          5.0         Y\n",
       "11          NaN         N\n",
       "12          NaN       NaN\n",
       "13          NaN         N\n",
       "14          NaN         N\n",
       "15          NaN       NaN\n",
       "16          NaN       NaN\n",
       "17          NaN         N\n",
       "18          NaN       NaN\n",
       "19          NaN       NaN"
      ]
     },
     "execution_count": 108,
     "metadata": {},
     "output_type": "execute_result"
    }
   ],
   "source": [
    "df2[['Weeks3Meals', 'SUBSCRIBE']].head(20)"
   ]
  },
  {
   "cell_type": "markdown",
   "metadata": {},
   "source": [
    "Subscribe tell us whether the customer subscribed to this promotion offer or not. Here some of the values are NA because those rows are part of the holdout sample. But since we no longer have the actual values, using 'Weeks3Meals', we can impute these. This is because 'Weeks3Meals' tells us the number of weeks that a customer that subscribed for the promotional offer stayed with the three-meal-plan, after the promotion was over. So for sure customers who have non null values in 'Weeks3Meals' must have subscribed to the offer since that is the precondition to measuring 'Weeks3Meals'. Also where 'Weeks3Meals' says that it is not applicable to the customer, it means the customer did not subscribe to the offer. "
   ]
  },
  {
   "cell_type": "markdown",
   "metadata": {},
   "source": [
    "Therefore, we can replace NA in Subcribe with Y for those rows in which 'Weeks3Meals' is not NA:"
   ]
  },
  {
   "cell_type": "code",
   "execution_count": 105,
   "metadata": {},
   "outputs": [
    {
     "data": {
      "text/plain": [
       "array([nan, 'N', 'Y'], dtype=object)"
      ]
     },
     "execution_count": 105,
     "metadata": {},
     "output_type": "execute_result"
    }
   ],
   "source": [
    "df2['SUBSCRIBE'].unique()"
   ]
  },
  {
   "cell_type": "code",
   "execution_count": 141,
   "metadata": {},
   "outputs": [
    {
     "data": {
      "text/plain": [
       "N    1169\n",
       "Y     231\n",
       "Name: SUBSCRIBE, dtype: int64"
      ]
     },
     "execution_count": 141,
     "metadata": {},
     "output_type": "execute_result"
    }
   ],
   "source": [
    "#looking at dataframe before making changes\n",
    "df2['SUBSCRIBE'].value_counts()"
   ]
  },
  {
   "cell_type": "code",
   "execution_count": 73,
   "metadata": {},
   "outputs": [],
   "source": [
    "df3=df2.copy()\n",
    "#df3.head()"
   ]
  },
  {
   "cell_type": "code",
   "execution_count": 130,
   "metadata": {},
   "outputs": [
    {
     "data": {
      "text/html": [
       "<div>\n",
       "<style scoped>\n",
       "    .dataframe tbody tr th:only-of-type {\n",
       "        vertical-align: middle;\n",
       "    }\n",
       "\n",
       "    .dataframe tbody tr th {\n",
       "        vertical-align: top;\n",
       "    }\n",
       "\n",
       "    .dataframe thead th {\n",
       "        text-align: right;\n",
       "    }\n",
       "</style>\n",
       "<table border=\"1\" class=\"dataframe\">\n",
       "  <thead>\n",
       "    <tr style=\"text-align: right;\">\n",
       "      <th></th>\n",
       "      <th>SUBSCRIBE</th>\n",
       "      <th>Weeks3Meals</th>\n",
       "    </tr>\n",
       "  </thead>\n",
       "  <tbody>\n",
       "    <tr>\n",
       "      <td>3</td>\n",
       "      <td>NaN</td>\n",
       "      <td>1.0</td>\n",
       "    </tr>\n",
       "    <tr>\n",
       "      <td>10</td>\n",
       "      <td>Y</td>\n",
       "      <td>5.0</td>\n",
       "    </tr>\n",
       "    <tr>\n",
       "      <td>21</td>\n",
       "      <td>Y</td>\n",
       "      <td>0.0</td>\n",
       "    </tr>\n",
       "    <tr>\n",
       "      <td>47</td>\n",
       "      <td>Y</td>\n",
       "      <td>2.0</td>\n",
       "    </tr>\n",
       "    <tr>\n",
       "      <td>68</td>\n",
       "      <td>Y</td>\n",
       "      <td>4.0</td>\n",
       "    </tr>\n",
       "  </tbody>\n",
       "</table>\n",
       "</div>"
      ],
      "text/plain": [
       "   SUBSCRIBE  Weeks3Meals\n",
       "3        NaN          1.0\n",
       "10         Y          5.0\n",
       "21         Y          0.0\n",
       "47         Y          2.0\n",
       "68         Y          4.0"
      ]
     },
     "execution_count": 130,
     "metadata": {},
     "output_type": "execute_result"
    }
   ],
   "source": [
    "#finding rows with NA in Subcribe for those rows in which 'Weeks3Meals' is not NA:\n",
    "df3[['SUBSCRIBE','Weeks3Meals']][df3['Weeks3Meals'].notnull()].head()\n",
    "    "
   ]
  },
  {
   "cell_type": "code",
   "execution_count": 134,
   "metadata": {},
   "outputs": [],
   "source": [
    "#replacing NA in Subcribe with Y for those rows in which 'Weeks3Meals' is not NA\n",
    "df3.loc[(df3['Weeks3Meals'].notnull()) & (df3['SUBSCRIBE'].isnull()), 'SUBSCRIBE'] ='Y'"
   ]
  },
  {
   "cell_type": "code",
   "execution_count": 135,
   "metadata": {},
   "outputs": [
    {
     "data": {
      "text/html": [
       "<div>\n",
       "<style scoped>\n",
       "    .dataframe tbody tr th:only-of-type {\n",
       "        vertical-align: middle;\n",
       "    }\n",
       "\n",
       "    .dataframe tbody tr th {\n",
       "        vertical-align: top;\n",
       "    }\n",
       "\n",
       "    .dataframe thead th {\n",
       "        text-align: right;\n",
       "    }\n",
       "</style>\n",
       "<table border=\"1\" class=\"dataframe\">\n",
       "  <thead>\n",
       "    <tr style=\"text-align: right;\">\n",
       "      <th></th>\n",
       "      <th>SUBSCRIBE</th>\n",
       "      <th>Weeks3Meals</th>\n",
       "    </tr>\n",
       "  </thead>\n",
       "  <tbody>\n",
       "    <tr>\n",
       "      <td>3</td>\n",
       "      <td>Y</td>\n",
       "      <td>1.0</td>\n",
       "    </tr>\n",
       "    <tr>\n",
       "      <td>10</td>\n",
       "      <td>Y</td>\n",
       "      <td>5.0</td>\n",
       "    </tr>\n",
       "    <tr>\n",
       "      <td>21</td>\n",
       "      <td>Y</td>\n",
       "      <td>0.0</td>\n",
       "    </tr>\n",
       "    <tr>\n",
       "      <td>47</td>\n",
       "      <td>Y</td>\n",
       "      <td>2.0</td>\n",
       "    </tr>\n",
       "    <tr>\n",
       "      <td>68</td>\n",
       "      <td>Y</td>\n",
       "      <td>4.0</td>\n",
       "    </tr>\n",
       "  </tbody>\n",
       "</table>\n",
       "</div>"
      ],
      "text/plain": [
       "   SUBSCRIBE  Weeks3Meals\n",
       "3          Y          1.0\n",
       "10         Y          5.0\n",
       "21         Y          0.0\n",
       "47         Y          2.0\n",
       "68         Y          4.0"
      ]
     },
     "execution_count": 135,
     "metadata": {},
     "output_type": "execute_result"
    }
   ],
   "source": [
    "#checking if rows with NA in Subcribe for those rows in which 'Weeks3Meals' is not NA have all been replaced:\n",
    "df3[['SUBSCRIBE','Weeks3Meals']][df3['Weeks3Meals'].notnull()].head()"
   ]
  },
  {
   "cell_type": "code",
   "execution_count": 140,
   "metadata": {},
   "outputs": [
    {
     "data": {
      "text/plain": [
       "N    1169\n",
       "Y     331\n",
       "Name: SUBSCRIBE, dtype: int64"
      ]
     },
     "execution_count": 140,
     "metadata": {},
     "output_type": "execute_result"
    }
   ],
   "source": [
    "#looking at values again\n",
    "df3['SUBSCRIBE'].value_counts()"
   ]
  },
  {
   "cell_type": "markdown",
   "metadata": {},
   "source": [
    "So as expected the total count for  'Y' has gone up."
   ]
  },
  {
   "cell_type": "code",
   "execution_count": 143,
   "metadata": {},
   "outputs": [],
   "source": [
    "df4=df3.copy()\n",
    "\n"
   ]
  },
  {
   "cell_type": "code",
   "execution_count": 144,
   "metadata": {},
   "outputs": [
    {
     "data": {
      "text/html": [
       "<div>\n",
       "<style scoped>\n",
       "    .dataframe tbody tr th:only-of-type {\n",
       "        vertical-align: middle;\n",
       "    }\n",
       "\n",
       "    .dataframe tbody tr th {\n",
       "        vertical-align: top;\n",
       "    }\n",
       "\n",
       "    .dataframe thead th {\n",
       "        text-align: right;\n",
       "    }\n",
       "</style>\n",
       "<table border=\"1\" class=\"dataframe\">\n",
       "  <thead>\n",
       "    <tr style=\"text-align: right;\">\n",
       "      <th></th>\n",
       "      <th>SUBSCRIBE</th>\n",
       "      <th>Weeks3Meals</th>\n",
       "    </tr>\n",
       "  </thead>\n",
       "  <tbody>\n",
       "    <tr>\n",
       "      <td>0</td>\n",
       "      <td>NaN</td>\n",
       "      <td>NaN</td>\n",
       "    </tr>\n",
       "    <tr>\n",
       "      <td>1</td>\n",
       "      <td>NaN</td>\n",
       "      <td>NaN</td>\n",
       "    </tr>\n",
       "    <tr>\n",
       "      <td>2</td>\n",
       "      <td>N</td>\n",
       "      <td>NaN</td>\n",
       "    </tr>\n",
       "    <tr>\n",
       "      <td>4</td>\n",
       "      <td>N</td>\n",
       "      <td>NaN</td>\n",
       "    </tr>\n",
       "    <tr>\n",
       "      <td>5</td>\n",
       "      <td>N</td>\n",
       "      <td>NaN</td>\n",
       "    </tr>\n",
       "  </tbody>\n",
       "</table>\n",
       "</div>"
      ],
      "text/plain": [
       "  SUBSCRIBE  Weeks3Meals\n",
       "0       NaN          NaN\n",
       "1       NaN          NaN\n",
       "2         N          NaN\n",
       "4         N          NaN\n",
       "5         N          NaN"
      ]
     },
     "execution_count": 144,
     "metadata": {},
     "output_type": "execute_result"
    }
   ],
   "source": [
    "#finding rows with NA in Subcribe for those rows in which 'Weeks3Meals' is not NA:\n",
    "df4[['SUBSCRIBE','Weeks3Meals']][df4['Weeks3Meals'].isnull()].head()"
   ]
  },
  {
   "cell_type": "code",
   "execution_count": 146,
   "metadata": {},
   "outputs": [],
   "source": [
    "#replacing NA in Subcribe with N for those rows in which 'Weeks3Meals' is not NA\n",
    "\n",
    "df4.loc[(df4['Weeks3Meals'].isnull()) & (df4['SUBSCRIBE'].isnull()), 'SUBSCRIBE']='N'"
   ]
  },
  {
   "cell_type": "code",
   "execution_count": 147,
   "metadata": {},
   "outputs": [
    {
     "data": {
      "text/html": [
       "<div>\n",
       "<style scoped>\n",
       "    .dataframe tbody tr th:only-of-type {\n",
       "        vertical-align: middle;\n",
       "    }\n",
       "\n",
       "    .dataframe tbody tr th {\n",
       "        vertical-align: top;\n",
       "    }\n",
       "\n",
       "    .dataframe thead th {\n",
       "        text-align: right;\n",
       "    }\n",
       "</style>\n",
       "<table border=\"1\" class=\"dataframe\">\n",
       "  <thead>\n",
       "    <tr style=\"text-align: right;\">\n",
       "      <th></th>\n",
       "      <th>SUBSCRIBE</th>\n",
       "      <th>Weeks3Meals</th>\n",
       "    </tr>\n",
       "  </thead>\n",
       "  <tbody>\n",
       "    <tr>\n",
       "      <td>0</td>\n",
       "      <td>N</td>\n",
       "      <td>NaN</td>\n",
       "    </tr>\n",
       "    <tr>\n",
       "      <td>1</td>\n",
       "      <td>N</td>\n",
       "      <td>NaN</td>\n",
       "    </tr>\n",
       "    <tr>\n",
       "      <td>2</td>\n",
       "      <td>N</td>\n",
       "      <td>NaN</td>\n",
       "    </tr>\n",
       "    <tr>\n",
       "      <td>4</td>\n",
       "      <td>N</td>\n",
       "      <td>NaN</td>\n",
       "    </tr>\n",
       "    <tr>\n",
       "      <td>5</td>\n",
       "      <td>N</td>\n",
       "      <td>NaN</td>\n",
       "    </tr>\n",
       "  </tbody>\n",
       "</table>\n",
       "</div>"
      ],
      "text/plain": [
       "  SUBSCRIBE  Weeks3Meals\n",
       "0         N          NaN\n",
       "1         N          NaN\n",
       "2         N          NaN\n",
       "4         N          NaN\n",
       "5         N          NaN"
      ]
     },
     "execution_count": 147,
     "metadata": {},
     "output_type": "execute_result"
    }
   ],
   "source": [
    "df4[['SUBSCRIBE','Weeks3Meals']][df4['Weeks3Meals'].isnull()].head()"
   ]
  },
  {
   "cell_type": "code",
   "execution_count": 149,
   "metadata": {},
   "outputs": [
    {
     "data": {
      "text/plain": [
       "N    1669\n",
       "Y     331\n",
       "Name: SUBSCRIBE, dtype: int64"
      ]
     },
     "execution_count": 149,
     "metadata": {},
     "output_type": "execute_result"
    }
   ],
   "source": [
    "#looking at values again\n",
    "df4['SUBSCRIBE'].value_counts()"
   ]
  },
  {
   "cell_type": "markdown",
   "metadata": {},
   "source": [
    "So as expected the total count for  'N' has gone up."
   ]
  },
  {
   "cell_type": "code",
   "execution_count": 151,
   "metadata": {},
   "outputs": [
    {
     "name": "stdout",
     "output_type": "stream",
     "text": [
      "0\n"
     ]
    }
   ],
   "source": [
    "#checking if there are still any missing values in 'SUBSCRIBE':\n",
    "print(df4['SUBSCRIBE'].isnull().sum())"
   ]
  }
 ],
 "metadata": {
  "kernelspec": {
   "display_name": "Python 3",
   "language": "python",
   "name": "python3"
  },
  "language_info": {
   "codemirror_mode": {
    "name": "ipython",
    "version": 3
   },
   "file_extension": ".py",
   "mimetype": "text/x-python",
   "name": "python",
   "nbconvert_exporter": "python",
   "pygments_lexer": "ipython3",
   "version": "3.7.4"
  }
 },
 "nbformat": 4,
 "nbformat_minor": 2
}
